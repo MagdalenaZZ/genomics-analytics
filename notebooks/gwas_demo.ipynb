
from simulate.simulate import simulate_acgt_genotypes, simulate_phenotype
from utils.genotype_encoding import acgt_to_dosage
from gwas.gwas_runner import run_gwas_dosage
from gwas.plots import manhattan_plot, qq_plot

geno_df, snp_df = simulate_acgt_genotypes(n_individuals=100, n_snps=1000)
phenotype = simulate_phenotype(geno_df, causal_snps=geno_df.columns[:2])
geno_dosage_df = acgt_to_dosage(geno_df, snp_df)

gwas_results = run_gwas_dosage(geno_dosage_df, phenotype)
manhattan_plot(gwas_results)
qq_plot(gwas_results["P"])


